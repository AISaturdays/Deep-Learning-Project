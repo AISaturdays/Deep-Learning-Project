{
 "cells": [
  {
   "cell_type": "markdown",
   "metadata": {},
   "source": [
    "# Testing Model\n",
    "## Importing libraries"
   ]
  },
  {
   "cell_type": "code",
   "execution_count": null,
   "metadata": {},
   "outputs": [],
   "source": [
    "import os\n",
    "from PIL import Image\n",
    "import cv2\n",
    "import numpy as np\n",
    "from keras.models import Sequential\n",
    "from keras.layers import Dense, Dropout, Activation, Flatten, Convolution2D, MaxPooling2D\n",
    "from keras.utils import np_utils\n",
    "from keras.models import model_from_json\n",
    "import os\n",
    "import sys\n",
    "import pickle\n",
    "import camera\n",
    "!pip3 install --ignore-installed h5py\n",
    "import h5py"
   ]
  },
  {
   "cell_type": "markdown",
   "metadata": {},
   "source": [
    "## Defining Classes for 43 Traffic Signs"
   ]
  },
  {
   "cell_type": "code",
   "execution_count": 8,
   "metadata": {},
   "outputs": [],
   "source": [
    "labels=['Speed Limit 20', 'Speed Limit 30', 'Speed Limit 50', 'Speed Limit 60', 'Speed Limit 70', 'Speed Limit 80', '', 'Speed Limit 100', 'Speed Limit 120', 'No Passing', 'No Passing by heavy Vehicles', 'Priority at next intersection', 'Priority Road', 'Give Way', 'STOP', 'No Entry in Both Directions', 'Traffic Sign 1', 'No Entry', 'Caution sign', 'Dangerous left curve',\n",
    "'Dangerous Right Curve', 'Left Reverse Bend', 'Uneven Road', 'Slippery Road', 'Right Lane Ends', 'Men At Work', 'Traffic Light Ahead', 'Traffic Sign 2', 'Traffic Sign 3', 'Cycle Lane', 'Risk Of Ice Snowdrift', 'Deer Crossing Warning', 'Traffic Sign 4', 'Right Turn', 'Left Turn', 'Straight Ahead', 'Traffic Sign 5', 'Traffic Sign 6', 'Traffic Sign 7', 'Traffic Sign 8', 'Roundabout', 'Traffic Sign 9', 'Traffic Sign 10']"
   ]
  },
  {
   "cell_type": "markdown",
   "metadata": {},
   "source": [
    "## Loading model design and weights from pre-saved files"
   ]
  },
  {
   "cell_type": "code",
   "execution_count": null,
   "metadata": {},
   "outputs": [],
   "source": [
    "json_file = open('model.json', 'r')\n",
    "loaded_model_json = json_file.read()\n",
    "json_file.close()\n",
    "model = model_from_json(loaded_model_json)\n",
    "sys.path.append('/usr/local/lib/python3.5/dist-packages')\n",
    "print(sys.path)\n",
    "model.load_weights(\"model.h5\")\n",
    "print(\"Loaded model from disk\")"
   ]
  },
  {
   "cell_type": "markdown",
   "metadata": {},
   "source": [
    "## Compiling model and displaying model summary"
   ]
  },
  {
   "cell_type": "code",
   "execution_count": null,
   "metadata": {},
   "outputs": [],
   "source": [
    "model.compile(loss='sparse_categorical_crossentropy', optimizer='adam', metrics=['accuracy'])\n",
    "model.summary()"
   ]
  },
  {
   "cell_type": "markdown",
   "metadata": {},
   "source": [
    "## Loading Testing/Validation Images and corresponding labels to which they belong to.\n",
    "### Converting images to corresponding numpy arrays.\n",
    "#### Labels range from 0-42."
   ]
  },
  {
   "cell_type": "code",
   "execution_count": null,
   "metadata": {},
   "outputs": [],
   "source": [
    "testing_labels = './Labels/test.p'\n",
    "with open(testing_labels, mode='rb') as f:\n",
    "    test = pickle.load(f)\n",
    "images_test = []\n",
    "temp_img_test = []\n",
    "for img in dir_test:\n",
    "    img=str(img)\n",
    "    allowed_extension = 'ppm'\n",
    "    if (img.split('.'))[1]==allowed_extension:\n",
    "        path =url + '/{}'.format(img)\n",
    "        im = Image.open(path)\n",
    "        im = im.convert('L')\n",
    "        im = im.resize((64, 64), Image.ANTIALIAS)\n",
    "        im = np.array(im)\n",
    "        temp_img_test.append(im)\n",
    "images_test = np.asarray(temp_img_test)"
   ]
  },
  {
   "cell_type": "markdown",
   "metadata": {},
   "source": [
    "## Scaling values of numpy arrays(obtained in previous step) between 0 an 1."
   ]
  },
  {
   "cell_type": "code",
   "execution_count": null,
   "metadata": {},
   "outputs": [],
   "source": [
    "images_test = images_test/255\n",
    "images_test = images_test.reshape(images_test.shape[0], 64, 64, 1)\n",
    "images_test = images_test.astype('float32')"
   ]
  },
  {
   "cell_type": "markdown",
   "metadata": {},
   "source": [
    "## Evaluating model on the test set and computing Test Accuracy"
   ]
  },
  {
   "cell_type": "code",
   "execution_count": null,
   "metadata": {},
   "outputs": [],
   "source": [
    "score = model.evaluate(np.array(images_test), np.array(y_test), verbose=0)\n",
    "print('Test score: ', score[0])\n",
    "print('Test accuracy: ', score[1])"
   ]
  },
  {
   "cell_type": "markdown",
   "metadata": {},
   "source": [
    "## 2 options for user to either test the image on already provided sample image or to capture own image of a traffic sign"
   ]
  },
  {
   "cell_type": "code",
   "execution_count": null,
   "metadata": {},
   "outputs": [],
   "source": [
    "print('Do you want to capture your own image(1) or want to test it on a custom image(2). Choose 1 or 2.')\n",
    "entry=int(input())\n",
    "if entry==2:\n",
    "    im = Image.open('./sample.ppm')\n",
    "    im = im.convert('L')\n",
    "    im = im.resize((64,64), Image.ANTIALIAS)\n",
    "    im = np.array(im)\n",
    "    x = np.expand_dims(im, axis=0)\n",
    "    x=x.reshape(1,64,64,1)\n",
    "\n",
    "    out1 = model.predict(x)\n",
    "    y = np.argmax(out1)\n",
    "    print(labels[y])\n",
    "elif entry == 1:\n",
    "    camera.capture()\n",
    "    im = Image.open('./captured_sign.png')\n",
    "    im = im.convert('L')\n",
    "    im = im.resize((64,64), Image.ANTIALIAS)\n",
    "    im = np.array(im)\n",
    "    x = np.expand_dims(im, axis=0)\n",
    "    x=x.reshape(1,64,64,1)\n",
    "\n",
    "    out1 = model.predict(x)\n",
    "    y = np.argmax(out1)\n",
    "    print(labels[y])\n",
    "    os.remove('./captured_sign.png')\n",
    "else:\n",
    "    print('Please choose the correct option and reexecute the code.')"
   ]
  }
 ],
 "metadata": {
  "kernelspec": {
   "display_name": "Python 3",
   "language": "python",
   "name": "python3"
  },
  "language_info": {
   "codemirror_mode": {
    "name": "ipython",
    "version": 2
   },
   "file_extension": ".py",
   "mimetype": "text/x-python",
   "name": "python",
   "nbconvert_exporter": "python",
   "pygments_lexer": "ipython2",
   "version": "2.7.12"
  }
 },
 "nbformat": 4,
 "nbformat_minor": 2
}
